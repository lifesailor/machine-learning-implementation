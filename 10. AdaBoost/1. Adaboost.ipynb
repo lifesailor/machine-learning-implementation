{
 "cells": [
  {
   "cell_type": "code",
   "execution_count": 20,
   "metadata": {},
   "outputs": [],
   "source": [
    "import numpy as np\n",
    "import pandas as pd\n",
    "import matplotlib.pyplot as plt\n",
    "from sklearn.tree import DecisionTreeClassifier\n",
    "from sklearn.preprocessing import LabelEncoder, StandardScaler"
   ]
  },
  {
   "cell_type": "markdown",
   "metadata": {},
   "source": [
    "### Get Data"
   ]
  },
  {
   "cell_type": "code",
   "execution_count": 15,
   "metadata": {},
   "outputs": [],
   "source": [
    "NUMERICAL_COLS = ()\n",
    "CATEGORICAL_COLS = np.arange(22) + 1 # 1..22 inclusive"
   ]
  },
  {
   "cell_type": "code",
   "execution_count": 16,
   "metadata": {},
   "outputs": [],
   "source": [
    "class DataTransformer:\n",
    "    def fit(self, df):\n",
    "        self.labelEncoders = {}\n",
    "        self.scalers = {}\n",
    "        \n",
    "        # numerical\n",
    "        for col in NUMERICAL_COLS:\n",
    "            scaler = StandardScaler()\n",
    "            scaler.fit(df[col].reshape(-1, 1))\n",
    "            self.scalers[col] = scaler\n",
    "            \n",
    "        # categorical\n",
    "        for col in CATEGORICAL_COLS:\n",
    "            encoder = LabelEncoder()\n",
    "            \n",
    "            # in case the train set does not have 'missing value but test set does\n",
    "            values = df[col].tolist()\n",
    "            values.append('missing')\n",
    "            encoder.fit(values)\n",
    "            self.labelEncoders[col] = encoder\n",
    "            \n",
    "        # find dimensionality\n",
    "        self.D = len(NUMERICAL_COLS)\n",
    "        for col, encoder in self.labelEncoders.items():\n",
    "            self.D += len(encoder.classes_)\n",
    "        print(\"dimensionality: \", self.D)\n",
    "        \n",
    "    def transform(self, df):\n",
    "        N, _ = df.shape\n",
    "        X = np.zeros((N, self.D))\n",
    "        i = 0\n",
    "        \n",
    "        # put data in X\n",
    "        for col, scaler in self.scalers.items():\n",
    "            X[:,i] = scaler.transform(df[col].as_matrix().reshape(-1, 1)).flatten()\n",
    "            i += 1\n",
    "        \n",
    "        for col, encoder in self.labelEncoders.items():\n",
    "            K = len(encoder.classes_)\n",
    "            X[np.arange(N), encoder.transform(df[col]) + i] = 1\n",
    "            i += K\n",
    "        return X\n",
    "    \n",
    "    def fit_transform(self, df):\n",
    "        self.fit(df)\n",
    "        return self.transform(df)"
   ]
  },
  {
   "cell_type": "code",
   "execution_count": 17,
   "metadata": {},
   "outputs": [],
   "source": [
    "def get_data():\n",
    "    df = pd.read_csv('./agaricus-lepiota.data.txt', header=None)\n",
    "       \n",
    "    # replace label column: e/p --> 0/1\n",
    "    df[0] = df.apply(lambda row: 0 if row[0] =='e' else 1, axis=1)\n",
    "    \n",
    "    # transform data\n",
    "    transformer = DataTransformer()\n",
    "    \n",
    "    X = transformer.fit_transform(df)\n",
    "    Y = df[0].as_matrix()\n",
    "    return X, Y"
   ]
  },
  {
   "cell_type": "markdown",
   "metadata": {},
   "source": [
    "### 1. Adaboost"
   ]
  },
  {
   "cell_type": "code",
   "execution_count": 54,
   "metadata": {},
   "outputs": [],
   "source": [
    "class AdaBoost:\n",
    "    def __init__(self, M):\n",
    "        self.M = M\n",
    "        \n",
    "    def fit(self, X, Y):\n",
    "        self.models = []\n",
    "        self.alphas = []\n",
    "        \n",
    "        N, _ = X.shape\n",
    "        W = np.ones(N) / N # initialize sample weight\n",
    "        \n",
    "        for m in range(self.M):\n",
    "            W = list(W)\n",
    "\n",
    "            tree = DecisionTreeClassifier(max_depth=1) # weak learner\n",
    "            tree.fit(X, Y, sample_weight=W)\n",
    "            P = tree.predict(X) # vector\n",
    "            \n",
    "            W = np.array(W)\n",
    "            err = W.dot(P != Y)\n",
    "            alpha = 0.5 * (np. log(1 - err) - np.log(err))\n",
    "            \n",
    "            W = W * np.exp(-alpha * Y * P) # update only using alpha, Y, P\n",
    "            W = W / W.sum() # normalize so it sums to 1\n",
    "            \n",
    "            self.models.append(tree)\n",
    "            self.alphas.append(alpha)\n",
    "            \n",
    "    def predict(self, X):\n",
    "        # Not like sklearn API\n",
    "        # We want accuracy and exponential loss for plotting\n",
    "        N, _ = X.shape\n",
    "        FX = np.zeros(N)\n",
    "        \n",
    "        for alpha, tree in zip(self.alphas, self.models):\n",
    "            FX += alpha * tree.predict(X)\n",
    "        return np.sign(FX), FX\n",
    "    \n",
    "    def score(self, X, Y):\n",
    "        P, FX = self.predict(X)\n",
    "        L = np.exp(-Y*FX).mean()\n",
    "        return np.mean(P == Y), L        "
   ]
  },
  {
   "cell_type": "markdown",
   "metadata": {},
   "source": [
    "### Test"
   ]
  },
  {
   "cell_type": "code",
   "execution_count": 55,
   "metadata": {},
   "outputs": [
    {
     "name": "stdout",
     "output_type": "stream",
     "text": [
      "dimensionality:  139\n",
      "20\n",
      "40\n",
      "60\n",
      "80\n",
      "100\n",
      "120\n",
      "140\n",
      "160\n",
      "180\n"
     ]
    }
   ],
   "source": [
    "X, Y = get_data()\n",
    "Y[Y == 0] = -1 # make the targets -1,+1\n",
    "Ntrain = int(0.8*len(X))\n",
    "Xtrain, Ytrain = X[:Ntrain], Y[:Ntrain]\n",
    "Xtest, Ytest = X[Ntrain:], Y[Ntrain:]\n",
    "\n",
    "T = 200\n",
    "train_errors = np.empty(T)\n",
    "test_losses = np.empty(T)\n",
    "test_errors = np.empty(T)\n",
    "for num_trees in range(T):\n",
    "    if num_trees == 0:\n",
    "        train_errors[num_trees] = None\n",
    "        test_errors[num_trees] = None\n",
    "        test_losses[num_trees] = None\n",
    "        continue\n",
    "    if num_trees % 20 == 0:\n",
    "        print(num_trees)\n",
    "\n",
    "    model = AdaBoost(num_trees)\n",
    "    model.fit(Xtrain, Ytrain)\n",
    "    acc, loss = model.score(Xtest, Ytest)\n",
    "    acc_train, _ = model.score(Xtrain, Ytrain)\n",
    "    train_errors[num_trees] = 1 - acc_train\n",
    "    test_errors[num_trees] = 1 - acc\n",
    "    test_losses[num_trees] = loss"
   ]
  },
  {
   "cell_type": "code",
   "execution_count": 56,
   "metadata": {},
   "outputs": [
    {
     "data": {
      "image/png": "[encoded data removed]",
      "text/plain": [
       "<matplotlib.figure.Figure at 0x11823ae80>"
      ]
     },
     "metadata": {},
     "output_type": "display_data"
    },
    {
     "data": {
      "image/png": "[encoded data removed]",
      "text/plain": [
       "<matplotlib.figure.Figure at 0x1a208ff390>"
      ]
     },
     "metadata": {},
     "output_type": "display_data"
    }
   ],
   "source": [
    "plt.plot(test_errors, label='test errors')\n",
    "plt.plot(test_losses, label='test losses')\n",
    "plt.legend()\n",
    "plt.show()\n",
    "\n",
    "plt.plot(train_errors, label='train errors')\n",
    "plt.plot(test_errors, label='test errors')\n",
    "plt.legend()\n",
    "plt.show()"
   ]
  },
  {
   "cell_type": "markdown",
   "metadata": {},
   "source": [
    "- Random Forest보다 좋은 결과이다."
   ]
  },
  {
   "cell_type": "code",
   "execution_count": null,
   "metadata": {},
   "outputs": [],
   "source": []
  }
 ],
 "metadata": {
  "kernelspec": {
   "display_name": "Python 3",
   "language": "python",
   "name": "python3"
  },
  "language_info": {
   "codemirror_mode": {
    "name": "ipython",
    "version": 3
   },
   "file_extension": ".py",
   "mimetype": "text/x-python",
   "name": "python",
   "nbconvert_exporter": "python",
   "pygments_lexer": "ipython3",
   "version": "3.6.4"
  }
 },
 "nbformat": 4,
 "nbformat_minor": 2
}
