{
 "cells": [
  {
   "cell_type": "code",
   "execution_count": 5,
   "metadata": {
    "collapsed": true
   },
   "outputs": [],
   "source": [
    "from datetime import datetime\n",
    "\n",
    "import numpy as np\n",
    "import pandas as pd\n",
    "import matplotlib.pyplot as plt"
   ]
  },
  {
   "cell_type": "markdown",
   "metadata": {},
   "source": [
    "# 1. Data"
   ]
  },
  {
   "cell_type": "markdown",
   "metadata": {},
   "source": [
    "### Simple"
   ]
  },
  {
   "cell_type": "code",
   "execution_count": 2,
   "metadata": {
    "collapsed": true
   },
   "outputs": [],
   "source": [
    "def get_simple_data():\n",
    "    D = 2\n",
    "    s = 4\n",
    "\n",
    "    mu1 = np.array([0,0])\n",
    "    mu2 = np.array([s,s])\n",
    "    mu3 = np.array([0,s])\n",
    "\n",
    "    N = 900\n",
    "    X = np.zeros((N, D))\n",
    "\n",
    "    X[:300, :] = np.random.randn(300, D) + mu1\n",
    "    X[300:600, :] = np.random.randn(300, D) + mu2\n",
    "    X[600:, :] = np.random.randn(300, D) + mu3\n",
    "\n",
    "    plt.scatter(X[:,0], X[:,1])\n",
    "    plt.show()"
   ]
  },
  {
   "cell_type": "markdown",
   "metadata": {},
   "source": [
    "### mnist"
   ]
  },
  {
   "cell_type": "code",
   "execution_count": 4,
   "metadata": {
    "collapsed": true
   },
   "outputs": [],
   "source": [
    "def get_data(limit=None):\n",
    "    df = pd.read_csv('./mnist_train.csv')\n",
    "    data = df.as_matrix()\n",
    "    np.random.shuffle(data)\n",
    "    \n",
    "    X = data[:, 1:] / 255.0\n",
    "    Y = data[:, 0]\n",
    "    \n",
    "    if limit is not None:\n",
    "        X, Y = X[:limit], Y[:limit]\n",
    "    return X, Y"
   ]
  },
  {
   "cell_type": "code",
   "execution_count": 3,
   "metadata": {
    "collapsed": true
   },
   "outputs": [],
   "source": [
    "def d(u, v):\n",
    "    diff = u - v\n",
    "    return diff.dot(diff)\n",
    "\n",
    "def cost(X, R, M):\n",
    "    cost = 0\n",
    "    for k in range(len(M)):\n",
    "        # method 1\n",
    "        # for n in range(len(X)):\n",
    "        #     cost += R[n,k]*d(M[k], X[n])\n",
    "\n",
    "        # method 2\n",
    "        diff = X - M[k]\n",
    "        sq_distances = (diff * diff).sum(axis=1)\n",
    "        cost += (R[:,k] * sq_distances).sum()\n",
    "    return cost\n",
    "\n",
    "\n",
    "def plot_k_means(X, K, max_iter=20, beta=1.0, show_plots=True):\n",
    "    N, D = X.shape\n",
    "    M = np.zeros((K, D))\n",
    "    # R = np.zeros((N, K))\n",
    "    exponents = np.empty((N, K))\n",
    "\n",
    "    # initialize M to random\n",
    "    for k in range(K):\n",
    "        M[k] = X[np.random.choice(N)]\n",
    "\n",
    "    costs = np.zeros(max_iter)\n",
    "    for i in range(max_iter):\n",
    "        # step 1: determine assignments / resposibilities\n",
    "        # is this inefficient?\n",
    "        for k in range(K):\n",
    "            for n in range(N):\n",
    "                # R[n,k] = np.exp(-beta*d(M[k], X[n])) / np.sum( np.exp(-beta*d(M[j], X[n])) for j in range(K) )\n",
    "                exponents[n,k] = np.exp(-beta*d(M[k], X[n]))\n",
    "\n",
    "        R = exponents / exponents.sum(axis=1, keepdims=True)\n",
    "        # assert(np.abs(R - R2).sum() < 1e-10)\n",
    "\n",
    "        # step 2: recalculate means\n",
    "        for k in range(K):\n",
    "            M[k] = R[:,k].dot(X) / R[:,k].sum()\n",
    "\n",
    "        costs[i] = cost(X, R, M)\n",
    "        if i > 0:\n",
    "            if np.abs(costs[i] - costs[i-1]) < 1e-5:\n",
    "                break\n",
    "\n",
    "    # color is 3 dimension\n",
    "    if show_plots:\n",
    "        plt.plot(costs)\n",
    "        \n",
    "        plt.title(\"Costs\")\n",
    "        plt.show()\n",
    "\n",
    "        random_colors = np.random.random((K, 3))\n",
    "        colors = R.dot(random_colors) # N * 3\n",
    "        plt.scatter(X[:,0], X[:,1], c=colors)\n",
    "\n",
    "        plt.show()\n",
    "\n",
    "    return M, R"
   ]
  },
  {
   "cell_type": "code",
   "execution_count": 12,
   "metadata": {
    "collapsed": true
   },
   "outputs": [],
   "source": [
    "# hard labels\n",
    "def purity2(Y, R):\n",
    "    # maximum purity is 1, higher is better\n",
    "    C = np.argmax(R, axis=1) # cluster assignments\n",
    "\n",
    "    N = len(Y) # number of data pts\n",
    "    K = len(set(Y)) # number of labels\n",
    "\n",
    "    total = 0.0\n",
    "    for k in range(K):\n",
    "        max_intersection = 0\n",
    "        for j in range(K):\n",
    "            intersection = ((C == k) & (Y == j)).sum()\n",
    "            if intersection > max_intersection:\n",
    "                max_intersection = intersection\n",
    "        total += max_intersection\n",
    "    return total / N\n",
    "\n",
    "\n",
    "def purity(Y, R):\n",
    "    # maximum purity is 1, higher is better\n",
    "    N, K = R.shape\n",
    "    p = 0\n",
    "    for k in range(K):\n",
    "        best_target = -1 # we don't strictly need to store this\n",
    "        max_intersection = 0\n",
    "        for j in range(K):\n",
    "            intersection = R[Y==j, k].sum()\n",
    "            if intersection > max_intersection:\n",
    "                max_intersection = intersection\n",
    "                best_target = j\n",
    "        p += max_intersection\n",
    "    return p / N\n",
    "\n",
    "\n",
    "# hard labels\n",
    "def DBI2(X, R):\n",
    "    N, D = X.shape\n",
    "    _, K = R.shape\n",
    "\n",
    "    # get sigmas, means first\n",
    "    sigma = np.zeros(K)\n",
    "    M = np.zeros((K, D))\n",
    "    assignments = np.argmax(R, axis=1)\n",
    "    for k in range(K):\n",
    "        Xk = X[assignments == k]\n",
    "        M[k] = Xk.mean(axis=0)\n",
    "        # assert(Xk.mean(axis=0).shape == (D,))\n",
    "        n = len(Xk)\n",
    "        diffs = Xk - M[k]\n",
    "        sq_diffs = diffs * diffs\n",
    "        sigma[k] = np.sqrt( sq_diffs.sum() / n )\n",
    "\n",
    "\n",
    "    # calculate Davies-Bouldin Index\n",
    "    dbi = 0\n",
    "    for k in range(K):\n",
    "        max_ratio = 0\n",
    "        for j in range(K):\n",
    "            if k != j:\n",
    "                numerator = sigma[k] + sigma[j]\n",
    "                denominator = np.linalg.norm(M[k] - M[j])\n",
    "                ratio = numerator / denominator\n",
    "                if ratio > max_ratio:\n",
    "                    max_ratio = ratio\n",
    "        dbi += max_ratio\n",
    "    return dbi / K\n",
    "\n",
    "\n",
    "\n",
    "def DBI(X, M, R):\n",
    "    # ratio between sum of std deviations between 2 clusters / distance between cluster means\n",
    "    # lower is better\n",
    "    N, D = X.shape\n",
    "    K, _ = M.shape\n",
    "\n",
    "    # get sigmas first\n",
    "    sigma = np.zeros(K)\n",
    "    for k in range(K):\n",
    "        diffs = X - M[k] # should be NxD\n",
    "        squared_distances = (diffs * diffs).sum(axis=1) # now just N\n",
    "        weighted_squared_distances = R[:,k]*squared_distances\n",
    "        sigma[k] = np.sqrt( weighted_squared_distances.sum() / R[:,k].sum() )\n",
    "\n",
    "    # calculate Davies-Bouldin Index\n",
    "    dbi = 0\n",
    "    for k in range(K):\n",
    "        max_ratio = 0\n",
    "        for j in range(K):\n",
    "            if k != j:\n",
    "                numerator = sigma[k] + sigma[j]\n",
    "                denominator = np.linalg.norm(M[k] - M[j])\n",
    "                ratio = numerator / denominator\n",
    "                if ratio > max_ratio:\n",
    "                    max_ratio = ratio\n",
    "        dbi += max_ratio\n",
    "    return dbi / K\n"
   ]
  },
  {
   "cell_type": "code",
   "execution_count": 13,
   "metadata": {
    "scrolled": false
   },
   "outputs": [
    {
     "name": "stdout",
     "output_type": "stream",
     "text": [
      "Number of data points: 10000\n"
     ]
    },
    {
     "data": {
      "image/png": "[encoded data removed]",
      "text/plain": [
       "<matplotlib.figure.Figure at 0x2e66739b38>"
      ]
     },
     "metadata": {},
     "output_type": "display_data"
    },
    {
     "data": {
      "image/png": "[encoded data removed]",
      "text/plain": [
       "<matplotlib.figure.Figure at 0x2e6673cc50>"
      ]
     },
     "metadata": {},
     "output_type": "display_data"
    },
    {
     "name": "stdout",
     "output_type": "stream",
     "text": [
      "Purity: 0.534437537901\n",
      "Purity 2 (hard clusters): 0.5359\n",
      "DBI: 2.90577012316\n",
      "DBI 2 (hard clusters): 2.89409806977\n"
     ]
    },
    {
     "data": {
      "image/png": "[encoded data removed]",
      "text/plain": [
       "<matplotlib.figure.Figure at 0x2e03f83e80>"
      ]
     },
     "metadata": {},
     "output_type": "display_data"
    },
    {
     "data": {
      "image/png": "[encoded data removed]",
      "text/plain": [
       "<matplotlib.figure.Figure at 0x2e30fdcf28>"
      ]
     },
     "metadata": {},
     "output_type": "display_data"
    },
    {
     "data": {
      "image/png": "[encoded data removed]",
      "text/plain": [
       "<matplotlib.figure.Figure at 0x2e03fe5f28>"
      ]
     },
     "metadata": {},
     "output_type": "display_data"
    },
    {
     "data": {
      "image/png": "[encoded data removed]",
      "text/plain": [
       "<matplotlib.figure.Figure at 0x2e30f23860>"
      ]
     },
     "metadata": {},
     "output_type": "display_data"
    },
    {
     "data": {
      "image/png": "[encoded data removed]",
      "text/plain": [
       "<matplotlib.figure.Figure at 0x2e63e074e0>"
      ]
     },
     "metadata": {},
     "output_type": "display_data"
    },
    {
     "data": {
      "image/png": "[encoded data removed]",
      "text/plain": [
       "<matplotlib.figure.Figure at 0x2e0400a828>"
      ]
     },
     "metadata": {},
     "output_type": "display_data"
    },
    {
     "data": {
      "image/png": "[encoded data removed]",
      "text/plain": [
       "<matplotlib.figure.Figure at 0x2e66752be0>"
      ]
     },
     "metadata": {},
     "output_type": "display_data"
    },
    {
     "data": {
      "image/png": "[encoded data removed]",
      "text/plain": [
       "<matplotlib.figure.Figure at 0x2e03f92358>"
      ]
     },
     "metadata": {},
     "output_type": "display_data"
    },
    {
     "data": {
      "image/png": "[encoded data removed]",
      "text/plain": [
       "<matplotlib.figure.Figure at 0x2e040fba90>"
      ]
     },
     "metadata": {},
     "output_type": "display_data"
    },
    {
     "data": {
      "image/png": "[encoded data removed]",
      "text/plain": [
       "<matplotlib.figure.Figure at 0x2e30f1b278>"
      ]
     },
     "metadata": {},
     "output_type": "display_data"
    }
   ],
   "source": [
    "X, Y = get_data(10000)\n",
    "\n",
    "# simple data\n",
    "# X = get_simple_data()\n",
    "# Y = np.array([0]*300 + [1]*300 + [2]*300)\n",
    "\n",
    "print(\"Number of data points:\", len(Y))\n",
    "M, R = plot_k_means(X, len(set(Y)))\n",
    "# Exercise: Try different values of K and compare the evaluation metrics\n",
    "print(\"Purity:\", purity(Y, R))\n",
    "print(\"Purity 2 (hard clusters):\", purity2(Y, R))\n",
    "print(\"DBI:\", DBI(X, M, R))\n",
    "print(\"DBI 2 (hard clusters):\", DBI2(X, R))\n",
    "\n",
    "# plot the mean images\n",
    "# they should look like digits\n",
    "for k in range(len(M)):\n",
    "    im = M[k].reshape(28, 28)\n",
    "    plt.imshow(im, cmap='gray')\n",
    "    plt.show()"
   ]
  },
  {
   "cell_type": "code",
   "execution_count": null,
   "metadata": {
    "collapsed": true
   },
   "outputs": [],
   "source": []
  }
 ],
 "metadata": {
  "kernelspec": {
   "display_name": "Python 3",
   "language": "python",
   "name": "python3"
  },
  "language_info": {
   "codemirror_mode": {
    "name": "ipython",
    "version": 3
   },
   "file_extension": ".py",
   "mimetype": "text/x-python",
   "name": "python",
   "nbconvert_exporter": "python",
   "pygments_lexer": "ipython3",
   "version": "3.6.2"
  }
 },
 "nbformat": 4,
 "nbformat_minor": 2
}
