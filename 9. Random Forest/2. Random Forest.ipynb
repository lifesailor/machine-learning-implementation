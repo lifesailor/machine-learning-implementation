{
 "cells": [
  {
   "cell_type": "code",
   "execution_count": 10,
   "metadata": {
    "collapsed": true
   },
   "outputs": [],
   "source": [
    "import numpy as np\n",
    "import pandas as pd\n",
    "import matplotlib.pyplot as plt\n",
    "\n",
    "from sklearn.preprocessing import LabelEncoder, StandardScaler\n",
    "from sklearn.ensemble import RandomForestRegressor\n",
    "from sklearn.linear_model import LinearRegression\n",
    "from sklearn.tree import DecisionTreeRegressor\n",
    "from sklearn.model_selection import cross_val_score"
   ]
  },
  {
   "cell_type": "markdown",
   "metadata": {},
   "source": [
    "# 1. Regression"
   ]
  },
  {
   "cell_type": "code",
   "execution_count": 69,
   "metadata": {
    "collapsed": true
   },
   "outputs": [],
   "source": [
    "# Columns\n",
    "NUMERICAL_COLS = [\n",
    "    'crim',\n",
    "    'zn',\n",
    "    'nox',\n",
    "    'rooms',\n",
    "    'age',\n",
    "    'dis',\n",
    "    'rad',\n",
    "    'tax',\n",
    "    'ptratio',\n",
    "    'b',\n",
    "    'lstat'\n",
    "]\n",
    "\n",
    "NO_TRANSFORM = ['river'] # binary"
   ]
  },
  {
   "cell_type": "markdown",
   "metadata": {},
   "source": [
    "### 1. Scaling"
   ]
  },
  {
   "cell_type": "code",
   "execution_count": 70,
   "metadata": {
    "collapsed": true
   },
   "outputs": [],
   "source": [
    "class DataTransformer:\n",
    "    def fit(self, df):\n",
    "        self.scalers = {}\n",
    "        for col in NUMERICAL_COLS:\n",
    "            scaler = StandardScaler()\n",
    "            scaler.fit(df[col].as_matrix().reshape(-1, 1))\n",
    "            self.scalers[col] = scaler\n",
    "            \n",
    "    def transform(self, df):\n",
    "        N, _   = df.shape\n",
    "        D = len(NUMERICAL_COLS) + len(NO_TRANSFORM)\n",
    "        X = np.zeros((N,D))\n",
    "        i = 0\n",
    "        \n",
    "        for col, scaler in self.scalers.items():\n",
    "            X[:, i] = scaler.transform(df[col].as_matrix().reshape(-1, 1)).flatten()\n",
    "            i += 1\n",
    "        \n",
    "        for col in NO_TRANSFORM:\n",
    "            X[:, i] = df[col]\n",
    "            i += 1\n",
    "        return X\n",
    "    \n",
    "    def fit_transform(self, df):\n",
    "        self.fit(df)\n",
    "        return self.transform(df)"
   ]
  },
  {
   "cell_type": "markdown",
   "metadata": {},
   "source": [
    "### 2. Data"
   ]
  },
  {
   "cell_type": "code",
   "execution_count": 73,
   "metadata": {
    "collapsed": true
   },
   "outputs": [],
   "source": [
    "def get_data():\n",
    "    # regex allows arbitrary number of spaces in seperator\n",
    "    df = pd.read_csv('./housing.data.txt', header=None, sep=r'\\s*', engine='python')\n",
    "    df.columns = [\n",
    "        'crim', 'zn', 'nonretail', 'river', 'nox', 'rooms',\n",
    "        'age', 'dis', 'rad', 'tax', 'ptratio', 'b', 'lstat', 'medv'\n",
    "    ]\n",
    "    \n",
    "    #transformer\n",
    "    transformer = DataTransformer()\n",
    "    \n",
    "    #shuffle the data\n",
    "    N = len(df)\n",
    "    train_idx = np.random.choice(N, size=int(0.7*N), replace=False)\n",
    "    test_idx = [i for i in range(N) if i not in train_idx]\n",
    "    df_train = df.loc[train_idx]\n",
    "    df_test = df.loc[test_idx]\n",
    "    \n",
    "    Xtrain = transformer.fit_transform(df_train)\n",
    "    Ytrain = np.log(df_train['medv'].as_matrix())\n",
    "    Xtest = transformer.transform(df_test)\n",
    "    Ytest = np.log(df_test['medv'].as_matrix())\n",
    "    return Xtrain, Ytrain, Xtest, Ytest"
   ]
  },
  {
   "cell_type": "code",
   "execution_count": 74,
   "metadata": {},
   "outputs": [
    {
     "name": "stderr",
     "output_type": "stream",
     "text": [
      "C:\\Users\\sailyourlife\\Anaconda3\\lib\\site-packages\\pandas\\io\\parsers.py:2138: FutureWarning: split() requires a non-empty pattern match.\n",
      "  yield pat.split(line.strip())\n",
      "C:\\Users\\sailyourlife\\Anaconda3\\lib\\site-packages\\pandas\\io\\parsers.py:2140: FutureWarning: split() requires a non-empty pattern match.\n",
      "  yield pat.split(line.strip())\n",
      "C:\\Users\\sailyourlife\\Anaconda3\\lib\\site-packages\\sklearn\\utils\\validation.py:444: DataConversionWarning: Data with input dtype int64 was converted to float64 by StandardScaler.\n",
      "  warnings.warn(msg, DataConversionWarning)\n"
     ]
    }
   ],
   "source": [
    "Xtrain, Ytrain, Xtest, Ytest = get_data()"
   ]
  },
  {
   "cell_type": "code",
   "execution_count": 15,
   "metadata": {
    "collapsed": true
   },
   "outputs": [],
   "source": [
    "model = RandomForestRegressor(n_estimators=100)\n",
    "model.fit(Xtrain, Ytrain)\n",
    "predictions = model.predict(Xtest)"
   ]
  },
  {
   "cell_type": "code",
   "execution_count": 16,
   "metadata": {},
   "outputs": [
    {
     "name": "stdout",
     "output_type": "stream",
     "text": [
      "ymin: 2.0 ymax: 4.0\n"
     ]
    },
    {
     "data": {
      "image/png": "[encoded data removed]",
      "text/plain": [
       "<matplotlib.figure.Figure at 0xaba74a940>"
      ]
     },
     "metadata": {},
     "output_type": "display_data"
    }
   ],
   "source": [
    "plt.scatter(Ytest, predictions)\n",
    "plt.xlabel(\"target\")\n",
    "plt.ylabel(\"prediction\")\n",
    "ymin = np.round( min( min(Ytest), min(predictions) ) )\n",
    "ymax = np.ceil( max( max(Ytest), max(predictions) ) )\n",
    "print(\"ymin:\", ymin, \"ymax:\", ymax)\n",
    "r = range(int(ymin), int(ymax) + 1)\n",
    "plt.plot(r, r)\n",
    "plt.show()"
   ]
  },
  {
   "cell_type": "code",
   "execution_count": 17,
   "metadata": {},
   "outputs": [
    {
     "data": {
      "image/png": "[encoded data removed]",
      "text/plain": [
       "<matplotlib.figure.Figure at 0xaba7403c8>"
      ]
     },
     "metadata": {},
     "output_type": "display_data"
    }
   ],
   "source": [
    "plt.plot(Ytest, label='targets')\n",
    "plt.plot(predictions, label='predictions')\n",
    "plt.legend()\n",
    "plt.show()"
   ]
  },
  {
   "cell_type": "code",
   "execution_count": 18,
   "metadata": {},
   "outputs": [
    {
     "name": "stdout",
     "output_type": "stream",
     "text": [
      "CV single tree: 0.652439350139\n",
      "CV baseline: 0.759265811312\n",
      "CV forest: 0.820718641346\n"
     ]
    }
   ],
   "source": [
    "# do a quick baseline test\n",
    "baseline = LinearRegression()\n",
    "single_tree = DecisionTreeRegressor()\n",
    "print(\"CV single tree:\", cross_val_score(single_tree, Xtrain, Ytrain).mean())\n",
    "print(\"CV baseline:\", cross_val_score(baseline, Xtrain, Ytrain).mean())\n",
    "print(\"CV forest:\", cross_val_score(model, Xtrain, Ytrain).mean())"
   ]
  },
  {
   "cell_type": "code",
   "execution_count": 19,
   "metadata": {},
   "outputs": [
    {
     "name": "stdout",
     "output_type": "stream",
     "text": [
      "test score single tree: 0.765645614045\n",
      "test score baseline: 0.798194267224\n",
      "test score forest: 0.854643910259\n"
     ]
    }
   ],
   "source": [
    "# test score\n",
    "single_tree.fit(Xtrain, Ytrain)\n",
    "baseline.fit(Xtrain, Ytrain)\n",
    "print(\"test score single tree:\", single_tree.score(Xtest, Ytest))\n",
    "print(\"test score baseline:\", baseline.score(Xtest, Ytest))\n",
    "print(\"test score forest:\", model.score(Xtest, Ytest))"
   ]
  },
  {
   "cell_type": "markdown",
   "metadata": {},
   "source": [
    "# 2. Classification"
   ]
  },
  {
   "cell_type": "code",
   "execution_count": 20,
   "metadata": {
    "collapsed": true
   },
   "outputs": [],
   "source": [
    "import numpy as np\n",
    "import pandas as pd\n",
    "import matplotlib.pyplot as plt\n",
    "from sklearn.preprocessing import LabelEncoder, StandardScaler\n",
    "from sklearn.tree import DecisionTreeClassifier\n",
    "from sklearn.ensemble import RandomForestClassifier\n",
    "from sklearn.linear_model import LogisticRegression\n",
    "from sklearn.model_selection import cross_val_score"
   ]
  },
  {
   "cell_type": "code",
   "execution_count": 21,
   "metadata": {
    "collapsed": true
   },
   "outputs": [],
   "source": [
    "NUMERICAL_COLS = ()\n",
    "CATEGORICAL_COLS = np.arange(22) + 1 # 1..22 inclusive"
   ]
  },
  {
   "cell_type": "markdown",
   "metadata": {},
   "source": [
    "### Data Encoder"
   ]
  },
  {
   "cell_type": "code",
   "execution_count": 60,
   "metadata": {
    "collapsed": true
   },
   "outputs": [],
   "source": [
    "class DataTransformer:\n",
    "    def fit(self, df):\n",
    "        self.labelEncoders = {}\n",
    "        self.scalers = {}\n",
    "        \n",
    "        # numerical\n",
    "        for col in NUMERICAL_COLS:\n",
    "            scaler = StandardScaler()\n",
    "            scaler.fit(df[col].reshape(-1, 1))\n",
    "            self.scalers[col] = scaler\n",
    "            \n",
    "        # categorical\n",
    "        for col in CATEGORICAL_COLS:\n",
    "            encoder = LabelEncoder()\n",
    "            \n",
    "            # in case the train set does not have 'missing value but test set does\n",
    "            values = df[col].tolist()\n",
    "            values.append('missing')\n",
    "            encoder.fit(values)\n",
    "            self.labelEncoders[col] = encoder\n",
    "            \n",
    "        # find dimensionality\n",
    "        self.D = len(NUMERICAL_COLS)\n",
    "        for col, encoder in self.labelEncoders.items():\n",
    "            self.D += len(encoder.classes_)\n",
    "        print(\"dimensionality: \", self.D)\n",
    "        \n",
    "    def transform(self, df):\n",
    "        N, _ = df.shape\n",
    "        X = np.zeros((N, self.D))\n",
    "        i = 0\n",
    "        \n",
    "        # put data in X\n",
    "        for col, scaler in self.scalers.items():\n",
    "            X[:,i] = scaler.transform(df[col].as_matrix().reshape(-1, 1)).flatten()\n",
    "            i += 1\n",
    "        \n",
    "        for col, encoder in self.labelEncoders.items():\n",
    "            K = len(encoder.classes_)\n",
    "            X[np.arange(N), encoder.transform(df[col]) + i] = 1\n",
    "            i += K\n",
    "        return X\n",
    "    \n",
    "    def fit_transform(self, df):\n",
    "        self.fit(df)\n",
    "        return self.transform(df)"
   ]
  },
  {
   "cell_type": "markdown",
   "metadata": {},
   "source": [
    "### Missing value"
   ]
  },
  {
   "cell_type": "code",
   "execution_count": 61,
   "metadata": {
    "collapsed": true
   },
   "outputs": [],
   "source": [
    "def replace_missing(df):\n",
    "    # standard method of replacement for numerical columns is median\n",
    "    \n",
    "    for col in NUMERICAL_COLS:\n",
    "        if np.any(df[col].isnull()):\n",
    "            # median replacing\n",
    "            med = np.median(df[col][df[col].notnull()])\n",
    "            df.loc[df[col].isnull(), col] = med\n",
    "            \n",
    "    # set a special value = 'missing'\n",
    "    for col in CATEGORICAL_COLaS:\n",
    "        if np.any(df[col].isnull()):\n",
    "            print(col)\n",
    "            df.loc[df[col].isnull(), col] = 'missing'"
   ]
  },
  {
   "cell_type": "markdown",
   "metadata": {},
   "source": [
    "### Get data"
   ]
  },
  {
   "cell_type": "code",
   "execution_count": 62,
   "metadata": {},
   "outputs": [],
   "source": [
    "def get_data():\n",
    "    df = pd.read_csv('./agaricus-lepiota.data.txt', header=None)\n",
    "       \n",
    "    # replace label column: e/p --> 0/1\n",
    "    df[0] = df.apply(lambda row: 0 if row[0] =='e' else 1, axis=1)\n",
    "    \n",
    "    # missing data\n",
    "    replace_missing(df)\n",
    "\n",
    "    # transform data\n",
    "    transformer = DataTransformer()\n",
    "    \n",
    "    X = transformer.fit_transform(df)\n",
    "    Y = df[0].as_matrix()\n",
    "    return X, Y"
   ]
  },
  {
   "cell_type": "code",
   "execution_count": 63,
   "metadata": {
    "scrolled": false
   },
   "outputs": [
    {
     "name": "stdout",
     "output_type": "stream",
     "text": [
      "dimensionality:  139\n"
     ]
    }
   ],
   "source": [
    "X, Y = get_data()"
   ]
  },
  {
   "cell_type": "code",
   "execution_count": 64,
   "metadata": {},
   "outputs": [
    {
     "name": "stdout",
     "output_type": "stream",
     "text": [
      "CV baseline: 0.927480630115\n",
      "CV one tree: 0.942642110469\n",
      "CV forest: 0.956188666072\n"
     ]
    }
   ],
   "source": [
    "# do a quick baseline test\n",
    "baseline = LogisticRegression()\n",
    "print(\"CV baseline:\", cross_val_score(baseline, X, Y, cv=8).mean())\n",
    "\n",
    "# single tree\n",
    "tree = DecisionTreeClassifier()\n",
    "print(\"CV one tree:\", cross_val_score(tree, X, Y, cv=8).mean())\n",
    "\n",
    "model = RandomForestClassifier(n_estimators=20) # try 10, 20, 50, 100, 200\n",
    "print(\"CV forest:\", cross_val_score(model, X, Y, cv=8).mean())"
   ]
  }
 ],
 "metadata": {
  "kernelspec": {
   "display_name": "Python 3",
   "language": "python",
   "name": "python3"
  },
  "language_info": {
   "codemirror_mode": {
    "name": "ipython",
    "version": 3
   },
   "file_extension": ".py",
   "mimetype": "text/x-python",
   "name": "python",
   "nbconvert_exporter": "python",
   "pygments_lexer": "ipython3",
   "version": "3.6.2"
  }
 },
 "nbformat": 4,
 "nbformat_minor": 2
}
