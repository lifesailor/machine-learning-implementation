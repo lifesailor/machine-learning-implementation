{
 "cells": [
  {
   "cell_type": "code",
   "execution_count": 1,
   "metadata": {},
   "outputs": [],
   "source": [
    "import numpy as np\n",
    "import pandas as pd\n",
    "import matplotlib.pyplot as plt\n",
    "from sklearn.preprocessing import LabelEncoder, StandardScaler\n",
    "from sklearn.tree import DecisionTreeClassifier\n",
    "from sklearn.ensemble import RandomForestClassifier\n",
    "from sklearn.linear_model import LogisticRegression\n",
    "from sklearn.model_selection import cross_val_score"
   ]
  },
  {
   "cell_type": "code",
   "execution_count": 2,
   "metadata": {},
   "outputs": [],
   "source": [
    "NUMERICAL_COLS = ()\n",
    "CATEGORICAL_COLS = np.arange(22) + 1 # 1..22 inclusive"
   ]
  },
  {
   "cell_type": "markdown",
   "metadata": {},
   "source": [
    "### BaggedTreeClassifier"
   ]
  },
  {
   "cell_type": "code",
   "execution_count": 7,
   "metadata": {},
   "outputs": [],
   "source": [
    "class BaggedTreeClassifier:\n",
    "    def __init__(self, n_estimators, max_depth=None):\n",
    "        self.B = n_estimators\n",
    "        self.max_depth = max_depth\n",
    "\n",
    "    def fit(self, X, Y):\n",
    "        N = len(X)\n",
    "        self.models = []\n",
    "        for b in range(self.B):\n",
    "            idx = np.random.choice(N, size=N, replace=True)\n",
    "            Xb = X[idx]\n",
    "            Yb = Y[idx]\n",
    "\n",
    "            model = DecisionTreeClassifier(max_depth=self.max_depth)\n",
    "            model.fit(Xb, Yb)\n",
    "            self.models.append(model)\n",
    "\n",
    "    def predict(self, X):\n",
    "        # no need to keep a dictionary since we are doing binary classification\n",
    "        predictions = np.zeros(len(X))\n",
    "        for model in self.models:\n",
    "            predictions += model.predict(X)\n",
    "        return np.round(predictions / self.B)\n",
    "\n",
    "    def score(self, X, Y):\n",
    "        P = self.predict(X)\n",
    "        return np.mean(Y == P)"
   ]
  },
  {
   "cell_type": "code",
   "execution_count": 8,
   "metadata": {},
   "outputs": [],
   "source": [
    "class DataTransformer:\n",
    "    def fit(self, df):\n",
    "        self.labelEncoders = {}\n",
    "        self.scalers = {}\n",
    "        \n",
    "        # numerical\n",
    "        for col in NUMERICAL_COLS:\n",
    "            scaler = StandardScaler()\n",
    "            scaler.fit(df[col].reshape(-1, 1))\n",
    "            self.scalers[col] = scaler\n",
    "            \n",
    "        # categorical\n",
    "        for col in CATEGORICAL_COLS:\n",
    "            encoder = LabelEncoder()\n",
    "            \n",
    "            # in case the train set does not have 'missing value but test set does\n",
    "            values = df[col].tolist()\n",
    "            values.append('missing')\n",
    "            encoder.fit(values)\n",
    "            self.labelEncoders[col] = encoder\n",
    "            \n",
    "        # find dimensionality\n",
    "        self.D = len(NUMERICAL_COLS)\n",
    "        for col, encoder in self.labelEncoders.items():\n",
    "            self.D += len(encoder.classes_)\n",
    "        print(\"dimensionality: \", self.D)\n",
    "        \n",
    "    def transform(self, df):\n",
    "        N, _ = df.shape\n",
    "        X = np.zeros((N, self.D))\n",
    "        i = 0\n",
    "        \n",
    "        # put data in X\n",
    "        for col, scaler in self.scalers.items():\n",
    "            X[:,i] = scaler.transform(df[col].as_matrix().reshape(-1, 1)).flatten()\n",
    "            i += 1\n",
    "        \n",
    "        for col, encoder in self.labelEncoders.items():\n",
    "            K = len(encoder.classes_)\n",
    "            X[np.arange(N), encoder.transform(df[col]) + i] = 1\n",
    "            i += K\n",
    "        return X\n",
    "    \n",
    "    def fit_transform(self, df):\n",
    "        self.fit(df)\n",
    "        return self.transform(df)\n",
    "    \n",
    "def replace_missing(df):\n",
    "    # standard method of replacement for numerical columns is median\n",
    "    \n",
    "    for col in NUMERICAL_COLS:\n",
    "        if np.any(df[col].isnull()):\n",
    "            # median replacing\n",
    "            med = np.median(df[col][df[col].notnull()])\n",
    "            df.loc[df[col].isnull(), col] = med\n",
    "            \n",
    "    # set a special value = 'missing'\n",
    "    for col in CATEGORICAL_COLS:\n",
    "        if np.any(df[col].isnull()):\n",
    "            print(col)\n",
    "            df.loc[df[col].isnull(), col] = 'missing'\n",
    "            \n",
    "def get_data():\n",
    "    df = pd.read_csv('./agaricus-lepiota.data.txt', header=None)\n",
    "       \n",
    "    # replace label column: e/p --> 0/1\n",
    "    df[0] = df.apply(lambda row: 0 if row[0] =='e' else 1, axis=1)\n",
    "    \n",
    "    # missing data\n",
    "    replace_missing(df)\n",
    "\n",
    "    # transform data\n",
    "    transformer = DataTransformer()\n",
    "    \n",
    "    X = transformer.fit_transform(df)\n",
    "    Y = df[0].as_matrix()\n",
    "    return X, Y"
   ]
  },
  {
   "cell_type": "markdown",
   "metadata": {},
   "source": [
    "### Get Data"
   ]
  },
  {
   "cell_type": "code",
   "execution_count": 9,
   "metadata": {},
   "outputs": [
    {
     "name": "stdout",
     "output_type": "stream",
     "text": [
      "dimensionality:  139\n"
     ]
    },
    {
     "name": "stderr",
     "output_type": "stream",
     "text": [
      "/Users/sailyourlife/anaconda3/envs/nextopt/lib/python3.6/site-packages/ipykernel_launcher.py:76: FutureWarning: Method .as_matrix will be removed in a future version. Use .values instead.\n"
     ]
    }
   ],
   "source": [
    "X, Y = get_data()\n",
    "Ntrain = int(0.8*len(X))\n",
    "Xtrain, Ytrain = X[:Ntrain], Y[:Ntrain]\n",
    "Xtest, Ytest = X[Ntrain:], Y[Ntrain:]"
   ]
  },
  {
   "cell_type": "markdown",
   "metadata": {},
   "source": [
    "### Build Not Random Forest"
   ]
  },
  {
   "cell_type": "markdown",
   "metadata": {},
   "source": [
    "- 계속해서 features들의 sub feature로 feature로 매 노드에서 decision tree를 만든다."
   ]
  },
  {
   "cell_type": "code",
   "execution_count": 10,
   "metadata": {},
   "outputs": [],
   "source": [
    "class NotRandomForest:\n",
    "    def __init__(self, n_estimators):\n",
    "        self.B = n_estimators\n",
    "        \n",
    "    def fit(self, X, Y, M=None):\n",
    "        N, D = X.shape\n",
    "        if M is None:\n",
    "            M = int(np.sqrt(D)) # feature \n",
    "            \n",
    "        self.models = []\n",
    "        self.features = []\n",
    "        \n",
    "        for b in range(self.B):\n",
    "            tree = DecisionTreeClassifier()\n",
    "            \n",
    "            # sample features\n",
    "            features = np.random.choice(D, size=M, replace=False)\n",
    "            \n",
    "            # sample training samples - bootstrap\n",
    "            idx  = np.random.choice(N, size=N, replace=True)\n",
    "            Xb = X[idx]\n",
    "            Yb = Y[idx]\n",
    "            \n",
    "            # 하나의 tree가 선택된 feature에 대해서 fit한다.\n",
    "            tree.fit(Xb[:, features], Yb)\n",
    "            self.features.append(features)\n",
    "            self.models.append(tree)\n",
    "            \n",
    "    def predict(self, X):\n",
    "        N = len(X)\n",
    "        P = np.zeros(N)\n",
    "        \n",
    "        for features, tree in zip(self.features, self.models):\n",
    "            P += tree.predict(X[:, features])\n",
    "        return np.round(P / self.B)\n",
    "    \n",
    "    def score(self, X, Y):\n",
    "        P = self.predict(X)\n",
    "        return np.mean(P == Y)            "
   ]
  },
  {
   "cell_type": "code",
   "execution_count": 13,
   "metadata": {},
   "outputs": [
    {
     "name": "stdout",
     "output_type": "stream",
     "text": [
      "num_trees: 0\n",
      "num_trees: 10\n",
      "num_trees: 20\n",
      "num_trees: 30\n",
      "num_trees: 40\n",
      "num_trees: 50\n",
      "num_trees: 60\n",
      "num_trees: 70\n",
      "num_trees: 80\n",
      "num_trees: 90\n"
     ]
    }
   ],
   "source": [
    "T = 100\n",
    "test_error_prf = np.empty(T)\n",
    "test_error_rf = np.empty(T)\n",
    "test_error_bag = np.empty(T)\n",
    "\n",
    "for num_trees in range(T):\n",
    "    if num_trees == 0:\n",
    "        test_error_prf[num_trees] = None\n",
    "        test_error_rf[num_trees] = None\n",
    "        test_error_bag[num_trees] = None\n",
    "    else:\n",
    "        rf = RandomForestClassifier(n_estimators=num_trees)\n",
    "        rf.fit(Xtrain, Ytrain)\n",
    "        test_error_rf[num_trees] = rf.score(Xtest, Ytest)\n",
    "\n",
    "        bg = BaggedTreeClassifier(n_estimators=num_trees)\n",
    "        bg.fit(Xtrain, Ytrain)\n",
    "        test_error_bag[num_trees] = bg.score(Xtest, Ytest)\n",
    "\n",
    "        prf = NotRandomForest(n_estimators=num_trees)\n",
    "        prf.fit(Xtrain, Ytrain)\n",
    "        test_error_prf[num_trees] = prf.score(Xtest, Ytest)\n",
    "\n",
    "    if num_trees % 10 == 0:\n",
    "        print(\"num_trees:\", num_trees)"
   ]
  },
  {
   "cell_type": "code",
   "execution_count": 14,
   "metadata": {},
   "outputs": [
    {
     "data": {
      "image/png": "[encoded data removed]",
      "text/plain": [
       "<Figure size 432x288 with 1 Axes>"
      ]
     },
     "metadata": {},
     "output_type": "display_data"
    }
   ],
   "source": [
    "plt.plot(test_error_rf, label='rf')\n",
    "plt.plot(test_error_prf, label='pseudo rf')\n",
    "plt.plot(test_error_bag, label='bag')\n",
    "plt.legend()\n",
    "plt.show()"
   ]
  }
 ],
 "metadata": {
  "kernelspec": {
   "display_name": "Python 3",
   "language": "python",
   "name": "python3"
  },
  "language_info": {
   "codemirror_mode": {
    "name": "ipython",
    "version": 3
   },
   "file_extension": ".py",
   "mimetype": "text/x-python",
   "name": "python",
   "nbconvert_exporter": "python",
   "pygments_lexer": "ipython3",
   "version": "3.6.4"
  }
 },
 "nbformat": 4,
 "nbformat_minor": 2
}
