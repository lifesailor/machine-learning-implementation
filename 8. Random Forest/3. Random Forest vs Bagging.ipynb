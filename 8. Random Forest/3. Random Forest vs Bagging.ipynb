{
 "cells": [
  {
   "cell_type": "code",
   "execution_count": 22,
   "metadata": {
    "collapsed": true
   },
   "outputs": [],
   "source": [
    "import numpy as np\n",
    "import pandas as pd\n",
    "import matplotlib.pyplot as plt\n",
    "from sklearn.ensemble import RandomForestRegressor, BaggingRegressor, RandomForestClassifier, BaggingClassifier\n",
    "from sklearn.tree import DecisionTreeRegressor\n",
    "# scikit learn baggingRegressor, baggingClassifier doens't have max depth"
   ]
  },
  {
   "cell_type": "code",
   "execution_count": 23,
   "metadata": {
    "collapsed": true
   },
   "outputs": [],
   "source": [
    "class BaggedTreeRegressor:\n",
    "    def __init__(self, n_estimators, max_depth=None):\n",
    "        self.B = n_estimators\n",
    "        self.max_depth = max_depth\n",
    "\n",
    "    def fit(self, X, Y):\n",
    "        N = len(X)\n",
    "        self.models = []\n",
    "        for b in range(self.B):\n",
    "            idx = np.random.choice(N, size=N, replace=True)\n",
    "            Xb = X[idx]\n",
    "            Yb = Y[idx]\n",
    "\n",
    "            model = DecisionTreeRegressor(max_depth=self.max_depth)\n",
    "            model.fit(Xb, Yb)\n",
    "            self.models.append(model)\n",
    "\n",
    "    def predict(self, X):\n",
    "        predictions = np.zeros(len(X))\n",
    "        for model in self.models:\n",
    "            predictions += model.predict(X)\n",
    "        return predictions / self.B\n",
    "\n",
    "    def score(self, X, Y):\n",
    "        d1 = Y - self.predict(X)\n",
    "        d2 = Y - Y.mean()\n",
    "        return 1 - d1.dot(d1) / d2.dot(d2)"
   ]
  },
  {
   "cell_type": "code",
   "execution_count": 24,
   "metadata": {
    "collapsed": true
   },
   "outputs": [],
   "source": [
    "class BaggedTreeClassifier:\n",
    "    def __init__(self, n_estimators, max_depth=None):\n",
    "        self.B = n_estimators\n",
    "        self.max_depth = max_depth\n",
    "\n",
    "    def fit(self, X, Y):\n",
    "        N = len(X)\n",
    "        self.models = []\n",
    "        for b in range(self.B):\n",
    "            idx = np.random.choice(N, size=N, replace=True)\n",
    "            Xb = X[idx]\n",
    "            Yb = Y[idx]\n",
    "\n",
    "            model = DecisionTreeClassifier(max_depth=self.max_depth)\n",
    "            model.fit(Xb, Yb)\n",
    "            self.models.append(model)\n",
    "\n",
    "    def predict(self, X):\n",
    "        # no need to keep a dictionary since we are doing binary classification\n",
    "        predictions = np.zeros(len(X))\n",
    "        for model in self.models:\n",
    "            predictions += model.predict(X)\n",
    "        return np.round(predictions / self.B)\n",
    "\n",
    "    def score(self, X, Y):\n",
    "        P = self.predict(X)\n",
    "        return np.mean(Y == P)"
   ]
  },
  {
   "cell_type": "markdown",
   "metadata": {},
   "source": [
    "# 1. Basic Data"
   ]
  },
  {
   "cell_type": "markdown",
   "metadata": {},
   "source": [
    "### 1. Make Data"
   ]
  },
  {
   "cell_type": "code",
   "execution_count": 25,
   "metadata": {
    "collapsed": true
   },
   "outputs": [],
   "source": [
    "N = 15\n",
    "D = 100\n",
    "X = (np.random.random((N, D)) - 0.5) * 10\n",
    "Y = X.sum(axis=1)**2 + 0.5 * np.random.randn(N)"
   ]
  },
  {
   "cell_type": "code",
   "execution_count": 26,
   "metadata": {
    "collapsed": true
   },
   "outputs": [],
   "source": [
    "Ntrain = int(N / 2)\n",
    "Xtrain = X[:Ntrain]\n",
    "Ytrain = Y[:Ntrain]\n",
    "Xtest = X[Ntrain:]\n",
    "Ytest = Y[Ntrain:]"
   ]
  },
  {
   "cell_type": "markdown",
   "metadata": {},
   "source": [
    "### 2. Test"
   ]
  },
  {
   "cell_type": "code",
   "execution_count": 27,
   "metadata": {},
   "outputs": [
    {
     "name": "stdout",
     "output_type": "stream",
     "text": [
      "num trees:  0\n",
      "num trees:  10\n",
      "num trees:  20\n",
      "num trees:  30\n",
      "num trees:  40\n",
      "num trees:  50\n",
      "num trees:  60\n",
      "num trees:  70\n",
      "num trees:  80\n",
      "num trees:  90\n",
      "num trees:  100\n",
      "num trees:  110\n",
      "num trees:  120\n",
      "num trees:  130\n",
      "num trees:  140\n",
      "num trees:  150\n",
      "num trees:  160\n",
      "num trees:  170\n",
      "num trees:  180\n",
      "num trees:  190\n",
      "num trees:  200\n",
      "num trees:  210\n",
      "num trees:  220\n",
      "num trees:  230\n",
      "num trees:  240\n",
      "num trees:  250\n",
      "num trees:  260\n",
      "num trees:  270\n",
      "num trees:  280\n",
      "num trees:  290\n"
     ]
    }
   ],
   "source": [
    "T = 300\n",
    "test_error_rf = np.empty(T)\n",
    "test_error_bag = np.empty(T)\n",
    "\n",
    "for num_trees in range(T):\n",
    "    if num_trees == 0:\n",
    "        test_error_rf[num_trees] = None\n",
    "        test_error_bag[num_trees] = None\n",
    "        \n",
    "    else:\n",
    "        rf = RandomForestRegressor(n_estimators=num_trees)\n",
    "        rf.fit(Xtrain, Ytrain)\n",
    "        test_error_rf[num_trees] = rf.score(Xtest, Ytest)\n",
    "        \n",
    "        bg = BaggedTreeRegressor(n_estimators=num_trees)\n",
    "        bg.fit(Xtrain, Ytrain)\n",
    "        test_error_bag[num_trees] = bg.score(Xtest, Ytest)\n",
    "        \n",
    "    if num_trees % 10 == 0:\n",
    "        print(\"num trees: \", num_trees)"
   ]
  },
  {
   "cell_type": "markdown",
   "metadata": {},
   "source": [
    "### Show result"
   ]
  },
  {
   "cell_type": "code",
   "execution_count": 28,
   "metadata": {},
   "outputs": [
    {
     "data": {
      "image/png": "[encoded data removed]",
      "text/plain": [
       "<matplotlib.figure.Figure at 0xbfcf616438>"
      ]
     },
     "metadata": {},
     "output_type": "display_data"
    }
   ],
   "source": [
    "plt.plot(test_error_rf, label='rf')\n",
    "plt.plot(test_error_bag, label='bag')\n",
    "plt.legend()\n",
    "plt.show()"
   ]
  },
  {
   "cell_type": "markdown",
   "metadata": {},
   "source": [
    "# 2. House Data"
   ]
  },
  {
   "cell_type": "code",
   "execution_count": 55,
   "metadata": {
    "collapsed": true
   },
   "outputs": [],
   "source": [
    "class DataTransformer:\n",
    "    def fit(self, df):\n",
    "        self.scalers = {}\n",
    "        for col in NUMERICAL_COLS:\n",
    "            scaler = StandardScaler()\n",
    "            scaler.fit(df[col].as_matrix().reshape(-1, 1))\n",
    "            self.scalers[col] = scaler\n",
    "            \n",
    "    def transform(self, df):\n",
    "        N, _   = df.shape\n",
    "        D = len(NUMERICAL_COLS) + len(NO_TRANSFORM)\n",
    "        X = np.zeros((N,D))\n",
    "        i = 0\n",
    "        \n",
    "        for col, scaler in self.scalers.items():\n",
    "            X[:, i] = scaler.transform(df[col].as_matrix().reshape(-1, 1)).flatten()\n",
    "            i += 1\n",
    "        \n",
    "        for col in NO_TRANSFORM:\n",
    "            X[:, i] = df[col]\n",
    "            i += 1\n",
    "        return X\n",
    "    \n",
    "    def fit_transform(self, df):\n",
    "        self.fit(df)\n",
    "        return self.transform(df)"
   ]
  },
  {
   "cell_type": "markdown",
   "metadata": {},
   "source": [
    "### Get Data"
   ]
  },
  {
   "cell_type": "code",
   "execution_count": 56,
   "metadata": {
    "collapsed": true
   },
   "outputs": [],
   "source": [
    "def get_data():\n",
    "    # regex allows arbitrary number of spaces in seperator\n",
    "    df = pd.read_csv('./housing.data.txt', header=None, sep=r'\\s*', engine='python')\n",
    "    df.columns = [\n",
    "        'crim', 'zn', 'nonretail', 'river', 'nox', 'rooms',\n",
    "        'age', 'dis', 'rad', 'tax', 'ptratio', 'b', 'lstat', 'medv'\n",
    "    ]\n",
    "    \n",
    "    #transformer\n",
    "    transformer = DataTransformer()\n",
    "    \n",
    "    #shuffle the data\n",
    "    N = len(df)\n",
    "    train_idx = np.random.choice(N, size=int(0.7*N), replace=False)\n",
    "    test_idx = [i for i in range(N) if i not in train_idx]\n",
    "    df_train = df.loc[train_idx]\n",
    "    df_test = df.loc[test_idx]\n",
    "    \n",
    "    Xtrain = transformer.fit_transform(df_train)\n",
    "    Ytrain = np.log(df_train['medv'].as_matrix())\n",
    "    Xtest = transformer.transform(df_test)\n",
    "    Ytest = np.log(df_test['medv'].as_matrix())\n",
    "    return Xtrain, Ytrain, Xtest, Ytest"
   ]
  },
  {
   "cell_type": "code",
   "execution_count": 57,
   "metadata": {},
   "outputs": [
    {
     "name": "stderr",
     "output_type": "stream",
     "text": [
      "C:\\Users\\sailyourlife\\Anaconda3\\lib\\site-packages\\pandas\\io\\parsers.py:2138: FutureWarning: split() requires a non-empty pattern match.\n",
      "  yield pat.split(line.strip())\n",
      "C:\\Users\\sailyourlife\\Anaconda3\\lib\\site-packages\\pandas\\io\\parsers.py:2140: FutureWarning: split() requires a non-empty pattern match.\n",
      "  yield pat.split(line.strip())\n",
      "C:\\Users\\sailyourlife\\Anaconda3\\lib\\site-packages\\sklearn\\utils\\validation.py:444: DataConversionWarning: Data with input dtype int64 was converted to float64 by StandardScaler.\n",
      "  warnings.warn(msg, DataConversionWarning)\n"
     ]
    }
   ],
   "source": [
    "Xtrain, Ytrain, Xtest, Ytest = get_data()"
   ]
  },
  {
   "cell_type": "markdown",
   "metadata": {},
   "source": [
    "### Test"
   ]
  },
  {
   "cell_type": "code",
   "execution_count": 58,
   "metadata": {},
   "outputs": [
    {
     "name": "stdout",
     "output_type": "stream",
     "text": [
      "num trees:  0\n",
      "num trees:  10\n",
      "num trees:  20\n",
      "num trees:  30\n",
      "num trees:  40\n",
      "num trees:  50\n",
      "num trees:  60\n",
      "num trees:  70\n",
      "num trees:  80\n",
      "num trees:  90\n",
      "num trees:  100\n",
      "num trees:  110\n",
      "num trees:  120\n",
      "num trees:  130\n",
      "num trees:  140\n",
      "num trees:  150\n",
      "num trees:  160\n",
      "num trees:  170\n",
      "num trees:  180\n",
      "num trees:  190\n",
      "num trees:  200\n",
      "num trees:  210\n",
      "num trees:  220\n",
      "num trees:  230\n",
      "num trees:  240\n",
      "num trees:  250\n",
      "num trees:  260\n",
      "num trees:  270\n",
      "num trees:  280\n",
      "num trees:  290\n"
     ]
    }
   ],
   "source": [
    "T = 300\n",
    "test_error_rf = np.empty(T)\n",
    "test_error_bag = np.empty(T)\n",
    "\n",
    "for num_trees in range(T):\n",
    "    if num_trees == 0:\n",
    "        test_error_rf[num_trees] = None\n",
    "        test_error_bag[num_trees] = None\n",
    "        \n",
    "    else:\n",
    "        rf = RandomForestRegressor(n_estimators=num_trees)\n",
    "        rf.fit(Xtrain, Ytrain)\n",
    "        test_error_rf[num_trees] = rf.score(Xtest, Ytest)\n",
    "        \n",
    "        bg = BaggedTreeRegressor(n_estimators=num_trees)\n",
    "        bg.fit(Xtrain, Ytrain)\n",
    "        test_error_bag[num_trees] = bg.score(Xtest, Ytest)\n",
    "        \n",
    "    if num_trees % 10 == 0:\n",
    "        print(\"num trees: \", num_trees)"
   ]
  },
  {
   "cell_type": "markdown",
   "metadata": {},
   "source": [
    "### Show Result"
   ]
  },
  {
   "cell_type": "code",
   "execution_count": 59,
   "metadata": {},
   "outputs": [
    {
     "data": {
      "image/png": "[encoded data removed]",
      "text/plain": [
       "<matplotlib.figure.Figure at 0xbfcfdfda58>"
      ]
     },
     "metadata": {},
     "output_type": "display_data"
    }
   ],
   "source": [
    "plt.plot(test_error_rf, label='rf')\n",
    "plt.plot(test_error_bag, label='bag')\n",
    "plt.legend()\n",
    "plt.show()"
   ]
  },
  {
   "cell_type": "markdown",
   "metadata": {},
   "source": [
    "# 3. Mushroom"
   ]
  },
  {
   "cell_type": "code",
   "execution_count": 60,
   "metadata": {
    "collapsed": true
   },
   "outputs": [],
   "source": [
    "import numpy as np\n",
    "import pandas as pd\n",
    "import matplotlib.pyplot as plt\n",
    "from sklearn.preprocessing import LabelEncoder, StandardScaler\n",
    "from sklearn.tree import DecisionTreeClassifier\n",
    "from sklearn.ensemble import RandomForestClassifier\n",
    "from sklearn.linear_model import LogisticRegression\n",
    "from sklearn.model_selection import cross_val_score"
   ]
  },
  {
   "cell_type": "code",
   "execution_count": 66,
   "metadata": {
    "collapsed": true
   },
   "outputs": [],
   "source": [
    "NUMERICAL_COLS = ()\n",
    "CATEGORICAL_COLS = np.arange(22) + 1 # 1..22 inclusive"
   ]
  },
  {
   "cell_type": "code",
   "execution_count": 67,
   "metadata": {
    "collapsed": true
   },
   "outputs": [],
   "source": [
    "class DataTransformer:\n",
    "    def fit(self, df):\n",
    "        self.labelEncoders = {}\n",
    "        self.scalers = {}\n",
    "        \n",
    "        # numerical\n",
    "        for col in NUMERICAL_COLS:\n",
    "            scaler = StandardScaler()\n",
    "            scaler.fit(df[col].reshape(-1, 1))\n",
    "            self.scalers[col] = scaler\n",
    "            \n",
    "        # categorical\n",
    "        for col in CATEGORICAL_COLS:\n",
    "            encoder = LabelEncoder()\n",
    "            \n",
    "            # in case the train set does not have 'missing value but test set does\n",
    "            values = df[col].tolist()\n",
    "            values.append('missing')\n",
    "            encoder.fit(values)\n",
    "            self.labelEncoders[col] = encoder\n",
    "            \n",
    "        # find dimensionality\n",
    "        self.D = len(NUMERICAL_COLS)\n",
    "        for col, encoder in self.labelEncoders.items():\n",
    "            self.D += len(encoder.classes_)\n",
    "        print(\"dimensionality: \", self.D)\n",
    "        \n",
    "    def transform(self, df):\n",
    "        N, _ = df.shape\n",
    "        X = np.zeros((N, self.D))\n",
    "        i = 0\n",
    "        \n",
    "        # put data in X\n",
    "        for col, scaler in self.scalers.items():\n",
    "            X[:,i] = scaler.transform(df[col].as_matrix().reshape(-1, 1)).flatten()\n",
    "            i += 1\n",
    "        \n",
    "        for col, encoder in self.labelEncoders.items():\n",
    "            K = len(encoder.classes_)\n",
    "            X[np.arange(N), encoder.transform(df[col]) + i] = 1\n",
    "            i += K\n",
    "        return X\n",
    "    \n",
    "    def fit_transform(self, df):\n",
    "        self.fit(df)\n",
    "        return self.transform(df)"
   ]
  },
  {
   "cell_type": "code",
   "execution_count": 71,
   "metadata": {
    "collapsed": true
   },
   "outputs": [],
   "source": [
    "def replace_missing(df):\n",
    "    # standard method of replacement for numerical columns is median\n",
    "    \n",
    "    for col in NUMERICAL_COLS:\n",
    "        if np.any(df[col].isnull()):\n",
    "            # median replacing\n",
    "            med = np.median(df[col][df[col].notnull()])\n",
    "            df.loc[df[col].isnull(), col] = med\n",
    "            \n",
    "    # set a special value = 'missing'\n",
    "    for col in CATEGORICAL_COLS:\n",
    "        if np.any(df[col].isnull()):\n",
    "            print(col)\n",
    "            df.loc[df[col].isnull(), col] = 'missing'"
   ]
  },
  {
   "cell_type": "markdown",
   "metadata": {},
   "source": [
    "### Get Data"
   ]
  },
  {
   "cell_type": "code",
   "execution_count": 72,
   "metadata": {
    "collapsed": true
   },
   "outputs": [],
   "source": [
    "def get_data():\n",
    "    df = pd.read_csv('./agaricus-lepiota.data.txt', header=None)\n",
    "       \n",
    "    # replace label column: e/p --> 0/1\n",
    "    df[0] = df.apply(lambda row: 0 if row[0] =='e' else 1, axis=1)\n",
    "    \n",
    "    # missing data\n",
    "    replace_missing(df)\n",
    "\n",
    "    # transform data\n",
    "    transformer = DataTransformer()\n",
    "    \n",
    "    X = transformer.fit_transform(df)\n",
    "    Y = df[0].as_matrix()\n",
    "    return X, Y"
   ]
  },
  {
   "cell_type": "code",
   "execution_count": 75,
   "metadata": {},
   "outputs": [
    {
     "name": "stdout",
     "output_type": "stream",
     "text": [
      "dimensionality:  139\n"
     ]
    }
   ],
   "source": [
    "X, Y = get_data()\n",
    "Ntrain = int(0.8*len(X))\n",
    "Xtrain, Ytrain = X[:Ntrain], Y[:Ntrain]\n",
    "Xtest, Ytest = X[Ntrain:], Y[Ntrain:]"
   ]
  },
  {
   "cell_type": "markdown",
   "metadata": {},
   "source": [
    "### Test"
   ]
  },
  {
   "cell_type": "code",
   "execution_count": 76,
   "metadata": {},
   "outputs": [
    {
     "name": "stdout",
     "output_type": "stream",
     "text": [
      "num trees:  0\n",
      "num trees:  10\n",
      "num trees:  20\n",
      "num trees:  30\n",
      "num trees:  40\n",
      "num trees:  50\n",
      "num trees:  60\n",
      "num trees:  70\n",
      "num trees:  80\n",
      "num trees:  90\n",
      "num trees:  100\n",
      "num trees:  110\n",
      "num trees:  120\n",
      "num trees:  130\n",
      "num trees:  140\n",
      "num trees:  150\n",
      "num trees:  160\n",
      "num trees:  170\n",
      "num trees:  180\n",
      "num trees:  190\n",
      "num trees:  200\n",
      "num trees:  210\n",
      "num trees:  220\n",
      "num trees:  230\n",
      "num trees:  240\n",
      "num trees:  250\n",
      "num trees:  260\n",
      "num trees:  270\n",
      "num trees:  280\n",
      "num trees:  290\n"
     ]
    }
   ],
   "source": [
    "T = 300\n",
    "test_error_rf = np.empty(T)\n",
    "test_error_bag = np.empty(T)\n",
    "\n",
    "for num_trees in range(T):\n",
    "    if num_trees == 0:\n",
    "        test_error_rf[num_trees] = None\n",
    "        test_error_bag[num_trees] = None\n",
    "        \n",
    "    else:\n",
    "        rf = RandomForestClassifier(n_estimators=num_trees)\n",
    "        rf.fit(Xtrain, Ytrain)\n",
    "        test_error_rf[num_trees] = rf.score(Xtest, Ytest)\n",
    "        \n",
    "        bg = BaggedTreeClassifier(n_estimators=num_trees)\n",
    "        bg.fit(Xtrain, Ytrain)\n",
    "        test_error_bag[num_trees] = bg.score(Xtest, Ytest)\n",
    "        \n",
    "    if num_trees % 10 == 0:\n",
    "        print(\"num trees: \", num_trees)"
   ]
  },
  {
   "cell_type": "markdown",
   "metadata": {},
   "source": [
    "### Show Result"
   ]
  },
  {
   "cell_type": "code",
   "execution_count": 77,
   "metadata": {},
   "outputs": [
    {
     "data": {
      "image/png": "[encoded data removed]",
      "text/plain": [
       "<matplotlib.figure.Figure at 0xbfcf60f278>"
      ]
     },
     "metadata": {},
     "output_type": "display_data"
    }
   ],
   "source": [
    "plt.plot(test_error_rf, label='rf')\n",
    "plt.plot(test_error_bag, label='bag')\n",
    "plt.legend()\n",
    "plt.show()"
   ]
  },
  {
   "cell_type": "code",
   "execution_count": null,
   "metadata": {
    "collapsed": true
   },
   "outputs": [],
   "source": []
  }
 ],
 "metadata": {
  "kernelspec": {
   "display_name": "Python 3",
   "language": "python",
   "name": "python3"
  },
  "language_info": {
   "codemirror_mode": {
    "name": "ipython",
    "version": 3
   },
   "file_extension": ".py",
   "mimetype": "text/x-python",
   "name": "python",
   "nbconvert_exporter": "python",
   "pygments_lexer": "ipython3",
   "version": "3.6.5"
  }
 },
 "nbformat": 4,
 "nbformat_minor": 2
}
