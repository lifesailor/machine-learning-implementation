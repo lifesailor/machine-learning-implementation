{
 "cells": [
  {
   "cell_type": "code",
   "execution_count": 8,
   "metadata": {
    "collapsed": true
   },
   "outputs": [],
   "source": [
    "import numpy as np \n",
    "import pandas as pd\n",
    "from datetime import datetime\n",
    "from scipy.stats import norm\n",
    "from scipy.stats import multivariate_normal as mvn"
   ]
  },
  {
   "cell_type": "markdown",
   "metadata": {},
   "source": [
    "### 1. Get Data"
   ]
  },
  {
   "cell_type": "code",
   "execution_count": 32,
   "metadata": {
    "collapsed": true
   },
   "outputs": [],
   "source": [
    "def get_data(limit=None):\n",
    "    df = pd.read_csv('./mnist_train.csv')\n",
    "    data = df.as_matrix()\n",
    "    np.random.shuffle(data)\n",
    "    \n",
    "    X = data[:, 1:] / 255.0\n",
    "    Y = data[:, 0]\n",
    "    \n",
    "    if limit is not None:\n",
    "        X, Y = X[:limit], Y[:limit]\n",
    "    return X, Y"
   ]
  },
  {
   "cell_type": "markdown",
   "metadata": {},
   "source": [
    "### 2. Naive Bayes"
   ]
  },
  {
   "cell_type": "code",
   "execution_count": 63,
   "metadata": {
    "collapsed": true
   },
   "outputs": [],
   "source": [
    "from datetime import datetime"
   ]
  },
  {
   "cell_type": "code",
   "execution_count": 101,
   "metadata": {
    "collapsed": true
   },
   "outputs": [],
   "source": [
    "class NaiveBayes(object):\n",
    "    def fit(self, X, Y, smoothing=10e-3):\n",
    "        self.gaussians = dict()\n",
    "        self.priors = dict()\n",
    "        labels = set(Y)\n",
    "\n",
    "        for c in labels:\n",
    "            # 특정 Class\n",
    "            current_x = X[Y == c]\n",
    "            self.gaussians[c] = {\n",
    "                'mean': current_x.mean(axis=0), #784\n",
    "                'var': current_x.var(axis=0) + smoothing, # 784 - independency \n",
    "            }\n",
    "            self.priors[c] = float(len(Y[Y == c])) / len(Y)\n",
    "\n",
    "    def score(self, X, Y):\n",
    "        P = self.predict(X)\n",
    "        return np.mean(P == Y)\n",
    "\n",
    "    def predict(self, X):\n",
    "        N, D = X.shape # 5000, 784\n",
    "        K = len(self.gaussians) # 10\n",
    "        P = np.zeros((N, K)) # 5000, 10\n",
    "\n",
    "        for c, g in self.gaussians.items():\n",
    "            mean, var = g['mean'], g['var']    # 784, 784\n",
    "\n",
    "            # Calculating Posterior - fit한 모델에서 각 X에 대한 pdf 구한다.\n",
    "            P[:, c] = mvn.logpdf(X, mean=mean, cov=var) + np.log(self.priors[c])\n",
    "          \n",
    "        return np.argmax(P, axis=1)"
   ]
  },
  {
   "cell_type": "code",
   "execution_count": 102,
   "metadata": {
    "collapsed": true
   },
   "outputs": [],
   "source": [
    "X, Y = get_data(10000)\n",
    "Ntrain = int(len(Y) / 2)\n",
    "Xtrain, Ytrain = X[:Ntrain], Y[:Ntrain]\n",
    "Xtest, Ytest = X[Ntrain:], Y[Ntrain:]"
   ]
  },
  {
   "cell_type": "code",
   "execution_count": 103,
   "metadata": {},
   "outputs": [
    {
     "name": "stdout",
     "output_type": "stream",
     "text": [
      "Training Time:  0:00:00.060050\n",
      "Train accuracy:  0.8088\n",
      "Time to compute train accuracy:  0:00:04.334622 Train size: 5000\n",
      "Test accuracy:  0.7956\n",
      "Time to compute test accuracy:  0:00:01.069893 Test size: 5000\n"
     ]
    }
   ],
   "source": [
    "model = NaiveBayes()\n",
    "t0 = datetime.now()\n",
    "model.fit(Xtrain, Ytrain)\n",
    "print(\"Training Time: \", (datetime.now() - t0))\n",
    "\n",
    "t0 = datetime.now()\n",
    "print(\"Train accuracy: \", model.score(Xtrain, Ytrain))\n",
    "print(\"Time to compute train accuracy: \", (datetime.now() - t0), \"Train size:\", len(Ytrain))\n",
    "\n",
    "t0 = datetime.now()\n",
    "print(\"Test accuracy: \", model.score(Xtest, Ytest))\n",
    "print(\"Time to compute test accuracy: \", (datetime.now() - t0), \"Test size:\", len(Ytrain))"
   ]
  },
  {
   "cell_type": "markdown",
   "metadata": {},
   "source": [
    "## 3. Bayes Classifier"
   ]
  },
  {
   "cell_type": "code",
   "execution_count": 113,
   "metadata": {
    "collapsed": true
   },
   "outputs": [],
   "source": [
    "class Bayes(object):\n",
    "    def fit(self, X, Y, smoothing=10e-3):\n",
    "        N, D = X.shape\n",
    "        self.gaussians = dict()\n",
    "        self.priors = dict()\n",
    "        labels = set(Y)\n",
    "        \n",
    "\n",
    "        for c in labels:\n",
    "            # 특정 Class\n",
    "            current_x = X[Y == c]\n",
    "            self.gaussians[c] = {\n",
    "                'mean': current_x.mean(axis=0), #784\n",
    "                'cov': np.cov(current_x.T) + np.eye(D) * smoothing, # 784 * 784 - independency \n",
    "            }\n",
    "            self.priors[c] = float(len(Y[Y == c])) / len(Y)\n",
    "\n",
    "    def score(self, X, Y):\n",
    "        P = self.predict(X)\n",
    "        return np.mean(P == Y)\n",
    "\n",
    "    def predict(self, X):\n",
    "        N, D = X.shape # 5000, 784\n",
    "        K = len(self.gaussians) # 10\n",
    "        P = np.zeros((N, K)) # 5000, 10\n",
    "\n",
    "        for c, g in self.gaussians.items():\n",
    "            mean, cov = g['mean'], g['cov']    # 784, 784\n",
    "\n",
    "            # Calculating Posterior - fit한 모델에서 각 X에 대한 pdf 구한다.\n",
    "            P[:, c] = mvn.logpdf(X, mean=mean, cov=cov) + np.log(self.priors[c])\n",
    "          \n",
    "        return np.argmax(P, axis=1)"
   ]
  },
  {
   "cell_type": "code",
   "execution_count": 114,
   "metadata": {
    "collapsed": true
   },
   "outputs": [],
   "source": [
    "X, Y = get_data(10000)\n",
    "Ntrain = int(len(Y) / 2)\n",
    "Xtrain, Ytrain = X[:Ntrain], Y[:Ntrain]\n",
    "Xtest, Ytest = X[Ntrain:], Y[Ntrain:]"
   ]
  },
  {
   "cell_type": "code",
   "execution_count": 115,
   "metadata": {},
   "outputs": [
    {
     "name": "stdout",
     "output_type": "stream",
     "text": [
      "Training Time:  0:00:00.152126\n",
      "Train accuracy:  0.9984\n",
      "Time to compute train accuracy:  0:00:01.099919 Train size: 5000\n",
      "Test accuracy:  0.9394\n",
      "Time to compute test accuracy:  0:00:01.075899 Test size: 5000\n"
     ]
    }
   ],
   "source": [
    "model = Bayes()\n",
    "t0 = datetime.now()\n",
    "model.fit(Xtrain, Ytrain)\n",
    "print(\"Training Time: \", (datetime.now() - t0))\n",
    "\n",
    "t0 = datetime.now()\n",
    "print(\"Train accuracy: \", model.score(Xtrain, Ytrain))\n",
    "print(\"Time to compute train accuracy: \", (datetime.now() - t0), \"Train size:\", len(Ytrain))\n",
    "\n",
    "t0 = datetime.now()\n",
    "print(\"Test accuracy: \", model.score(Xtest, Ytest))\n",
    "print(\"Time to compute test accuracy: \", (datetime.now() - t0), \"Test size:\", len(Ytrain))"
   ]
  }
 ],
 "metadata": {
  "kernelspec": {
   "display_name": "Python 3",
   "language": "python",
   "name": "python3"
  },
  "language_info": {
   "codemirror_mode": {
    "name": "ipython",
    "version": 3
   },
   "file_extension": ".py",
   "mimetype": "text/x-python",
   "name": "python",
   "nbconvert_exporter": "python",
   "pygments_lexer": "ipython3",
   "version": "3.6.2"
  }
 },
 "nbformat": 4,
 "nbformat_minor": 2
}
